{
 "cells": [
  {
   "cell_type": "markdown",
   "id": "8849587b-93e5-4ce1-a8f2-d76276d47fc7",
   "metadata": {},
   "source": [
    "# Predicting Useful Questions on Stack Exchange #"
   ]
  },
  {
   "cell_type": "markdown",
   "id": "9ebd975b-2074-42fd-aa3f-0d538ceb7cff",
   "metadata": {},
   "source": [
    "For this project, we are working with question data from Stack Exchange, specifically from Stack Exchange's Cross Validated site. The data contains all the questions asked during the year 2020. Below is a description of the features in our dataset."
   ]
  },
  {
   "cell_type": "markdown",
   "id": "d7c23893-7b96-4770-b8f8-444a1f09c8b3",
   "metadata": {},
   "source": [
    "- **Title:**\n",
    "    - Title text of the question\n",
    "- **Body:**\n",
    "    - Main body text of the question (in html format)\n",
    "- **Tags:**\n",
    "    - List of tags associated with the question (the format is \\<tag1>\\<tag2>...)\n",
    "- **Score:**\n",
    "    - Score of the question, equal to total number of upvotes minus total number of downvotes\n"
   ]
  },
  {
   "cell_type": "markdown",
   "id": "6eec3cf9-b32e-4bad-9f97-1335c9ef6c88",
   "metadata": {},
   "source": [
    "In this project we will build a model that predicts whether or not a question is useful (we will define \"useful\" as a question with a score greater than 0). Such a model would be desirable for Stack Exchange because they can use it promote certain questions at the top of their page, which would make browsing their websites more convenient for their users.   "
   ]
  },
  {
   "cell_type": "markdown",
   "id": "0a7c6fc0-ede5-487b-ad83-4ef54392fbe7",
   "metadata": {},
   "source": [
    "## Data Cleaning/Feature Extraction ##"
   ]
  },
  {
   "cell_type": "markdown",
   "id": "3693cc7a-f33c-4f3c-b26a-95c3d3a8072e",
   "metadata": {},
   "source": [
    "We will use a bag of words model to represent the text in our data set. Before we can do this though, we will have to clean up the text data.  "
   ]
  },
  {
   "cell_type": "code",
   "execution_count": 1,
   "id": "cdbdeea4-d5e8-43fe-b8a7-11c1d896133c",
   "metadata": {},
   "outputs": [],
   "source": [
    "import pandas as pd\n",
    "import numpy as np\n",
    "from bs4 import BeautifulSoup\n",
    "import nltk"
   ]
  },
  {
   "cell_type": "code",
   "execution_count": 2,
   "id": "19154981-b799-4673-a3b0-aa10f8fa2fbd",
   "metadata": {},
   "outputs": [],
   "source": [
    "#nltk.download('punkt')"
   ]
  },
  {
   "cell_type": "code",
   "execution_count": 3,
   "id": "cfe62370-3f48-41c0-b737-7274c1a2a695",
   "metadata": {},
   "outputs": [],
   "source": [
    "train=pd.read_csv(\"stack_stats_2020_train.csv\")\n",
    "test=pd.read_csv(\"stack_stats_2020_test.csv\")"
   ]
  },
  {
   "cell_type": "code",
   "execution_count": 4,
   "id": "2706024a-338a-49cf-b9ac-6a57a915a417",
   "metadata": {},
   "outputs": [
    {
     "data": {
      "text/html": [
       "<div>\n",
       "<style scoped>\n",
       "    .dataframe tbody tr th:only-of-type {\n",
       "        vertical-align: middle;\n",
       "    }\n",
       "\n",
       "    .dataframe tbody tr th {\n",
       "        vertical-align: top;\n",
       "    }\n",
       "\n",
       "    .dataframe thead th {\n",
       "        text-align: right;\n",
       "    }\n",
       "</style>\n",
       "<table border=\"1\" class=\"dataframe\">\n",
       "  <thead>\n",
       "    <tr style=\"text-align: right;\">\n",
       "      <th></th>\n",
       "      <th>Id</th>\n",
       "      <th>Score</th>\n",
       "      <th>Body</th>\n",
       "      <th>Title</th>\n",
       "      <th>Tags</th>\n",
       "    </tr>\n",
       "  </thead>\n",
       "  <tbody>\n",
       "    <tr>\n",
       "      <th>0</th>\n",
       "      <td>495560</td>\n",
       "      <td>1</td>\n",
       "      <td>&lt;p&gt;I have a set of data that I am transforming...</td>\n",
       "      <td>R: emmeans back tranform clr data using clrInv</td>\n",
       "      <td>&lt;r&gt;&lt;mixed-model&gt;&lt;linear&gt;&lt;lsmeans&gt;</td>\n",
       "    </tr>\n",
       "    <tr>\n",
       "      <th>1</th>\n",
       "      <td>489896</td>\n",
       "      <td>0</td>\n",
       "      <td>&lt;p&gt;We are sending a one bit message to someone...</td>\n",
       "      <td>Trying to determine the failure rate of redund...</td>\n",
       "      <td>&lt;probability&gt;&lt;python&gt;</td>\n",
       "    </tr>\n",
       "    <tr>\n",
       "      <th>2</th>\n",
       "      <td>497951</td>\n",
       "      <td>2</td>\n",
       "      <td>&lt;p&gt;I am aware that there is a similar post: &lt;a...</td>\n",
       "      <td>How to derive categorical cross entropy update...</td>\n",
       "      <td>&lt;logistic&gt;&lt;cross-entropy&gt;</td>\n",
       "    </tr>\n",
       "    <tr>\n",
       "      <th>3</th>\n",
       "      <td>478542</td>\n",
       "      <td>2</td>\n",
       "      <td>&lt;p&gt;I have a Poisson distributed glm where I ha...</td>\n",
       "      <td>Learning more about glm parameters, how to dig...</td>\n",
       "      <td>&lt;generalized-linear-model&gt;&lt;interpretation&gt;</td>\n",
       "    </tr>\n",
       "    <tr>\n",
       "      <th>4</th>\n",
       "      <td>458388</td>\n",
       "      <td>0</td>\n",
       "      <td>&lt;p&gt;1) how do i decide which transformation or ...</td>\n",
       "      <td>Is there I guide to decide which transformatio...</td>\n",
       "      <td>&lt;python&gt;&lt;data-transformation&gt;&lt;dataset&gt;&lt;feature...</td>\n",
       "    </tr>\n",
       "    <tr>\n",
       "      <th>...</th>\n",
       "      <td>...</td>\n",
       "      <td>...</td>\n",
       "      <td>...</td>\n",
       "      <td>...</td>\n",
       "      <td>...</td>\n",
       "    </tr>\n",
       "    <tr>\n",
       "      <th>8244</th>\n",
       "      <td>450701</td>\n",
       "      <td>0</td>\n",
       "      <td>&lt;p&gt;My data is of the form &lt;span class=\"math-co...</td>\n",
       "      <td>Visualising high dimensional data</td>\n",
       "      <td>&lt;r&gt;&lt;data-visualization&gt;&lt;ggplot2&gt;</td>\n",
       "    </tr>\n",
       "    <tr>\n",
       "      <th>8245</th>\n",
       "      <td>481194</td>\n",
       "      <td>1</td>\n",
       "      <td>&lt;p&gt;I noticed the term ANOVA used in many conte...</td>\n",
       "      <td>Is the analysis of residual variance still ANO...</td>\n",
       "      <td>&lt;regression&gt;&lt;anova&gt;&lt;generalized-linear-model&gt;&lt;...</td>\n",
       "    </tr>\n",
       "    <tr>\n",
       "      <th>8246</th>\n",
       "      <td>492163</td>\n",
       "      <td>3</td>\n",
       "      <td>&lt;p&gt;I'm trying to do logistic regression, but I...</td>\n",
       "      <td>Handling missing data in logistic regression</td>\n",
       "      <td>&lt;r&gt;&lt;regression&gt;&lt;logistic&gt;&lt;missing-data&gt;&lt;regres...</td>\n",
       "    </tr>\n",
       "    <tr>\n",
       "      <th>8247</th>\n",
       "      <td>451444</td>\n",
       "      <td>2</td>\n",
       "      <td>&lt;p&gt;Consider the following experimental design ...</td>\n",
       "      <td>Mixed models: How to treat random factors that...</td>\n",
       "      <td>&lt;r&gt;&lt;mixed-model&gt;&lt;lme4-nlme&gt;</td>\n",
       "    </tr>\n",
       "    <tr>\n",
       "      <th>8248</th>\n",
       "      <td>460905</td>\n",
       "      <td>17</td>\n",
       "      <td>&lt;p&gt;I am constructing different configurations ...</td>\n",
       "      <td>Data partitioning for spatial data</td>\n",
       "      <td>&lt;machine-learning&gt;&lt;random-forest&gt;&lt;spatial&gt;&lt;par...</td>\n",
       "    </tr>\n",
       "  </tbody>\n",
       "</table>\n",
       "<p>27496 rows × 5 columns</p>\n",
       "</div>"
      ],
      "text/plain": [
       "          Id  Score                                               Body  \\\n",
       "0     495560      1  <p>I have a set of data that I am transforming...   \n",
       "1     489896      0  <p>We are sending a one bit message to someone...   \n",
       "2     497951      2  <p>I am aware that there is a similar post: <a...   \n",
       "3     478542      2  <p>I have a Poisson distributed glm where I ha...   \n",
       "4     458388      0  <p>1) how do i decide which transformation or ...   \n",
       "...      ...    ...                                                ...   \n",
       "8244  450701      0  <p>My data is of the form <span class=\"math-co...   \n",
       "8245  481194      1  <p>I noticed the term ANOVA used in many conte...   \n",
       "8246  492163      3  <p>I'm trying to do logistic regression, but I...   \n",
       "8247  451444      2  <p>Consider the following experimental design ...   \n",
       "8248  460905     17  <p>I am constructing different configurations ...   \n",
       "\n",
       "                                                  Title  \\\n",
       "0        R: emmeans back tranform clr data using clrInv   \n",
       "1     Trying to determine the failure rate of redund...   \n",
       "2     How to derive categorical cross entropy update...   \n",
       "3     Learning more about glm parameters, how to dig...   \n",
       "4     Is there I guide to decide which transformatio...   \n",
       "...                                                 ...   \n",
       "8244                  Visualising high dimensional data   \n",
       "8245  Is the analysis of residual variance still ANO...   \n",
       "8246       Handling missing data in logistic regression   \n",
       "8247  Mixed models: How to treat random factors that...   \n",
       "8248                 Data partitioning for spatial data   \n",
       "\n",
       "                                                   Tags  \n",
       "0                     <r><mixed-model><linear><lsmeans>  \n",
       "1                                 <probability><python>  \n",
       "2                             <logistic><cross-entropy>  \n",
       "3            <generalized-linear-model><interpretation>  \n",
       "4     <python><data-transformation><dataset><feature...  \n",
       "...                                                 ...  \n",
       "8244                   <r><data-visualization><ggplot2>  \n",
       "8245  <regression><anova><generalized-linear-model><...  \n",
       "8246  <r><regression><logistic><missing-data><regres...  \n",
       "8247                        <r><mixed-model><lme4-nlme>  \n",
       "8248  <machine-learning><random-forest><spatial><par...  \n",
       "\n",
       "[27496 rows x 5 columns]"
      ]
     },
     "execution_count": 4,
     "metadata": {},
     "output_type": "execute_result"
    }
   ],
   "source": [
    "combined=pd.concat((train,test))\n",
    "combined"
   ]
  },
  {
   "cell_type": "markdown",
   "id": "d9599ac8-ff51-440d-a635-75d040355538",
   "metadata": {},
   "source": [
    "As you can see above, I first combine our training set and test set. I do this only because we want our bag of words representations of the training and test sets to record the frequencies of the same words (if we proccessed these sets seperately there may be words in the test set that don't appear in the training set and vice versa). This consistency between the two sets is important for when we actually use machine learning models to preform classification. After the bag of words model is created, I will seperate the data back into the same training and test sets.\n",
    "\n",
    "The following code cell contains the necessary code to clean up the text. This includes making all the letters lower case, removing stop words, digits, and punctuation, and stemming each word. Also, there were some special considerations that needed to be made for the body text and the tag text.\n",
    "\n",
    "Since the body text is in HTML format, I first used the BeautifulSoup package extract the relevant text then wrote a line of code to remove any lingering '\\n'. I noticed a lot of latex expressions in the body text so I wrote some code that stripped all of the body text of latex expressions using a regex. I decided to remove latex expressions from the text because they are comprised of a lot of symbols that don't have any semantic meaning in the english language.\n",
    "\n",
    "As for the tag text, I made the decision to tokenize each word based off each tag a question had. I also didn't bother removing the hyphen in hyphenated words. My reasoning behind this is that I believe that the tags in a question would lose its semantic meaning if we were to break up the phrases in each tag and look at each term individually. For example, the tag \\<random-forest> signals that the question is going to be about the random forest model. If we were to break down the tag into the two terms \"random\" and \"forest\", maybe the model we train would be able to deduce that the presence of the word \"forest\" may signal a question about random forests, but the word \"random\" can be used in different contexts that don't align with the topic of random forests. Therefore, I chose to keep phrases in tags together to avoid this problem."
   ]
  },
  {
   "cell_type": "code",
   "execution_count": 5,
   "id": "d8f35e5d-74e6-4283-abab-841c30c74480",
   "metadata": {},
   "outputs": [],
   "source": [
    "from string import punctuation\n",
    "from nltk.tokenize import word_tokenize, RegexpTokenizer\n",
    "from nltk.corpus import stopwords\n",
    "from nltk.stem import PorterStemmer\n",
    "\n",
    "remove_punctuation= lambda document:''.join([character for character in document if character not in punctuation])\n",
    "\n",
    "remove_digit= lambda document:''.join([character for character in document if not character.isdigit()])\n",
    "\n",
    "stop_words = set(stopwords.words('english'))\n",
    "remove_stopwords=lambda document:[word for word in document if not word in stop_words]\n",
    "\n",
    "\n",
    "stemmer= lambda document:[PorterStemmer().stem(word) for word in document]\n",
    "\n",
    "def clean_body(series):\n",
    "    t=pd.Series([BeautifulSoup(series.iloc[i],'html.parser').get_text() for i in range(len(series))],index=series.index)\n",
    "    t=t.str.replace('\\n',' ', regex=False)\n",
    "    t=t.str.replace('[$]{2}.*?[$]{2}',' ',regex=True)\n",
    "    t=t.str.replace('[$].*?[$]',' ',regex=True)\n",
    "    t=t.str.lower()\n",
    "    t=t.apply(remove_punctuation)\n",
    "    t=t.apply(remove_digit)\n",
    "    t=t.apply(word_tokenize)\n",
    "    t=t.apply(remove_stopwords)\n",
    "    t=t.apply(stemmer)\n",
    "    \n",
    "    return t.apply(' '.join)\n",
    "\n",
    "def clean_tag(series):\n",
    "    tk = RegexpTokenizer('[<].*?[>]', gaps = False)\n",
    "    series=series.apply(tk.tokenize)\n",
    "    series=series.apply(\" \".join)\n",
    "    f=lambda s:''.join([c for c in s if c not in ['<','>']])\n",
    "    series=series.apply(f)\n",
    "    return series\n",
    "\n",
    "def clean_title(t):\n",
    "    t=t.str.lower()\n",
    "    t=t.apply(remove_punctuation)\n",
    "    t=t.apply(remove_digit)\n",
    "    t=t.apply(word_tokenize)\n",
    "    t=t.apply(remove_stopwords)\n",
    "    t=t.apply(stemmer)\n",
    "    return t.apply(' '.join)\n",
    "    \n",
    " "
   ]
  },
  {
   "cell_type": "code",
   "execution_count": 6,
   "id": "6b9e43cb-544d-41e5-9b17-0a7be866f297",
   "metadata": {},
   "outputs": [],
   "source": [
    "body=clean_body(combined[\"Body\"])\n",
    "title=clean_title(combined[\"Title\"])\n",
    "tag=clean_tag(combined[\"Tags\"])\n"
   ]
  },
  {
   "cell_type": "markdown",
   "id": "14c1e7b7-e6e6-4e60-a3c4-ca4fbc68a8a3",
   "metadata": {},
   "source": [
    "Now that the text is clean we can go about creating a document term matrix. I made the decision of processing the three types of text data in our dataset independently. I did this because certain words may have different implications depending on if the word was found in the title, body, or tag. The following two code cells creates three document term matrices for each text type and concatenates them to produce the final dataset we will be working with. By passing in the min_df parameter into sklearn's CountVectorizer I was able to limit the bag of words model to only consider words that appear in at least 3% of the corpus (I chose to do 5% specifically for the tag text). This rids the matrix of insignificant terms and also limits the amount of features we will have down to a manageable size, which ended up being 396. "
   ]
  },
  {
   "cell_type": "code",
   "execution_count": 7,
   "id": "9e184214-27aa-41f3-8b1f-3264fe4ff844",
   "metadata": {},
   "outputs": [],
   "source": [
    "from sklearn.feature_extraction.text import CountVectorizer\n",
    "\n",
    "countvec = CountVectorizer(min_df=0.03)\n",
    "\n",
    "df_b=countvec.fit_transform(body)\n",
    "df_b=pd.DataFrame(df_b.toarray(),columns=pd.Series(countvec.get_feature_names()).apply(lambda x: x+\"_Body\"),index=body.index)\n",
    "\n",
    "df_tit=countvec.fit_transform(title)\n",
    "df_tit=pd.DataFrame(df_tit.toarray(),columns=pd.Series(countvec.get_feature_names()).apply(lambda x: x+\"_Title\"),index=title.index)\n",
    "\n",
    "countvec = CountVectorizer(min_df=0.05,token_pattern='\\w+(?:-\\w+)*|\\$[\\d.]+|\\S+')\n",
    "df_tag=countvec.fit_transform(tag)\n",
    "df_tag=pd.DataFrame(df_tag.toarray(),columns=pd.Series(countvec.get_feature_names()).apply(lambda x: x+\"_Tags\"),index=tag.index)\n"
   ]
  },
  {
   "cell_type": "code",
   "execution_count": 8,
   "id": "a3e548ba-cab9-416b-9fc9-ba458f99bbb3",
   "metadata": {},
   "outputs": [],
   "source": [
    "data=pd.concat([df_b,df_tit,df_tag],axis=1)\n",
    "X=data.iloc[:len(train),:]\n",
    "processed_test=data.iloc[len(train):,:]\n",
    "y=train['Score']>0\n",
    "test_y=test['Score']>0"
   ]
  },
  {
   "cell_type": "code",
   "execution_count": 9,
   "id": "5d5960bb-01e3-4fdb-936a-e8c0e285cd54",
   "metadata": {},
   "outputs": [
    {
     "data": {
      "text/html": [
       "<div>\n",
       "<style scoped>\n",
       "    .dataframe tbody tr th:only-of-type {\n",
       "        vertical-align: middle;\n",
       "    }\n",
       "\n",
       "    .dataframe tbody tr th {\n",
       "        vertical-align: top;\n",
       "    }\n",
       "\n",
       "    .dataframe thead th {\n",
       "        text-align: right;\n",
       "    }\n",
       "</style>\n",
       "<table border=\"1\" class=\"dataframe\">\n",
       "  <thead>\n",
       "    <tr style=\"text-align: right;\">\n",
       "      <th></th>\n",
       "      <th>abl_Body</th>\n",
       "      <th>accord_Body</th>\n",
       "      <th>account_Body</th>\n",
       "      <th>accuraci_Body</th>\n",
       "      <th>across_Body</th>\n",
       "      <th>actual_Body</th>\n",
       "      <th>ad_Body</th>\n",
       "      <th>add_Body</th>\n",
       "      <th>addit_Body</th>\n",
       "      <th>advanc_Body</th>\n",
       "      <th>...</th>\n",
       "      <th>two_Title</th>\n",
       "      <th>use_Title</th>\n",
       "      <th>valu_Title</th>\n",
       "      <th>variabl_Title</th>\n",
       "      <th>machine-learning_Tags</th>\n",
       "      <th>neural-networks_Tags</th>\n",
       "      <th>probability_Tags</th>\n",
       "      <th>r_Tags</th>\n",
       "      <th>regression_Tags</th>\n",
       "      <th>time-series_Tags</th>\n",
       "    </tr>\n",
       "  </thead>\n",
       "  <tbody>\n",
       "    <tr>\n",
       "      <th>0</th>\n",
       "      <td>0</td>\n",
       "      <td>0</td>\n",
       "      <td>0</td>\n",
       "      <td>0</td>\n",
       "      <td>0</td>\n",
       "      <td>0</td>\n",
       "      <td>0</td>\n",
       "      <td>0</td>\n",
       "      <td>0</td>\n",
       "      <td>0</td>\n",
       "      <td>...</td>\n",
       "      <td>0</td>\n",
       "      <td>1</td>\n",
       "      <td>0</td>\n",
       "      <td>0</td>\n",
       "      <td>0</td>\n",
       "      <td>0</td>\n",
       "      <td>0</td>\n",
       "      <td>1</td>\n",
       "      <td>0</td>\n",
       "      <td>0</td>\n",
       "    </tr>\n",
       "    <tr>\n",
       "      <th>1</th>\n",
       "      <td>0</td>\n",
       "      <td>0</td>\n",
       "      <td>0</td>\n",
       "      <td>0</td>\n",
       "      <td>0</td>\n",
       "      <td>0</td>\n",
       "      <td>0</td>\n",
       "      <td>0</td>\n",
       "      <td>0</td>\n",
       "      <td>0</td>\n",
       "      <td>...</td>\n",
       "      <td>0</td>\n",
       "      <td>0</td>\n",
       "      <td>0</td>\n",
       "      <td>0</td>\n",
       "      <td>0</td>\n",
       "      <td>0</td>\n",
       "      <td>1</td>\n",
       "      <td>0</td>\n",
       "      <td>0</td>\n",
       "      <td>0</td>\n",
       "    </tr>\n",
       "    <tr>\n",
       "      <th>2</th>\n",
       "      <td>0</td>\n",
       "      <td>0</td>\n",
       "      <td>0</td>\n",
       "      <td>0</td>\n",
       "      <td>0</td>\n",
       "      <td>0</td>\n",
       "      <td>0</td>\n",
       "      <td>0</td>\n",
       "      <td>0</td>\n",
       "      <td>0</td>\n",
       "      <td>...</td>\n",
       "      <td>0</td>\n",
       "      <td>0</td>\n",
       "      <td>0</td>\n",
       "      <td>0</td>\n",
       "      <td>0</td>\n",
       "      <td>0</td>\n",
       "      <td>0</td>\n",
       "      <td>0</td>\n",
       "      <td>0</td>\n",
       "      <td>0</td>\n",
       "    </tr>\n",
       "    <tr>\n",
       "      <th>3</th>\n",
       "      <td>0</td>\n",
       "      <td>0</td>\n",
       "      <td>0</td>\n",
       "      <td>0</td>\n",
       "      <td>0</td>\n",
       "      <td>0</td>\n",
       "      <td>0</td>\n",
       "      <td>0</td>\n",
       "      <td>0</td>\n",
       "      <td>0</td>\n",
       "      <td>...</td>\n",
       "      <td>0</td>\n",
       "      <td>0</td>\n",
       "      <td>0</td>\n",
       "      <td>0</td>\n",
       "      <td>0</td>\n",
       "      <td>0</td>\n",
       "      <td>0</td>\n",
       "      <td>0</td>\n",
       "      <td>0</td>\n",
       "      <td>0</td>\n",
       "    </tr>\n",
       "    <tr>\n",
       "      <th>4</th>\n",
       "      <td>0</td>\n",
       "      <td>0</td>\n",
       "      <td>0</td>\n",
       "      <td>0</td>\n",
       "      <td>0</td>\n",
       "      <td>0</td>\n",
       "      <td>0</td>\n",
       "      <td>0</td>\n",
       "      <td>0</td>\n",
       "      <td>0</td>\n",
       "      <td>...</td>\n",
       "      <td>0</td>\n",
       "      <td>0</td>\n",
       "      <td>0</td>\n",
       "      <td>0</td>\n",
       "      <td>0</td>\n",
       "      <td>0</td>\n",
       "      <td>0</td>\n",
       "      <td>0</td>\n",
       "      <td>0</td>\n",
       "      <td>0</td>\n",
       "    </tr>\n",
       "    <tr>\n",
       "      <th>...</th>\n",
       "      <td>...</td>\n",
       "      <td>...</td>\n",
       "      <td>...</td>\n",
       "      <td>...</td>\n",
       "      <td>...</td>\n",
       "      <td>...</td>\n",
       "      <td>...</td>\n",
       "      <td>...</td>\n",
       "      <td>...</td>\n",
       "      <td>...</td>\n",
       "      <td>...</td>\n",
       "      <td>...</td>\n",
       "      <td>...</td>\n",
       "      <td>...</td>\n",
       "      <td>...</td>\n",
       "      <td>...</td>\n",
       "      <td>...</td>\n",
       "      <td>...</td>\n",
       "      <td>...</td>\n",
       "      <td>...</td>\n",
       "      <td>...</td>\n",
       "    </tr>\n",
       "    <tr>\n",
       "      <th>19242</th>\n",
       "      <td>2</td>\n",
       "      <td>0</td>\n",
       "      <td>0</td>\n",
       "      <td>2</td>\n",
       "      <td>0</td>\n",
       "      <td>0</td>\n",
       "      <td>0</td>\n",
       "      <td>0</td>\n",
       "      <td>0</td>\n",
       "      <td>0</td>\n",
       "      <td>...</td>\n",
       "      <td>0</td>\n",
       "      <td>0</td>\n",
       "      <td>1</td>\n",
       "      <td>0</td>\n",
       "      <td>0</td>\n",
       "      <td>0</td>\n",
       "      <td>0</td>\n",
       "      <td>0</td>\n",
       "      <td>0</td>\n",
       "      <td>0</td>\n",
       "    </tr>\n",
       "    <tr>\n",
       "      <th>19243</th>\n",
       "      <td>0</td>\n",
       "      <td>0</td>\n",
       "      <td>0</td>\n",
       "      <td>0</td>\n",
       "      <td>0</td>\n",
       "      <td>0</td>\n",
       "      <td>0</td>\n",
       "      <td>0</td>\n",
       "      <td>0</td>\n",
       "      <td>0</td>\n",
       "      <td>...</td>\n",
       "      <td>0</td>\n",
       "      <td>1</td>\n",
       "      <td>0</td>\n",
       "      <td>0</td>\n",
       "      <td>0</td>\n",
       "      <td>0</td>\n",
       "      <td>0</td>\n",
       "      <td>0</td>\n",
       "      <td>0</td>\n",
       "      <td>0</td>\n",
       "    </tr>\n",
       "    <tr>\n",
       "      <th>19244</th>\n",
       "      <td>0</td>\n",
       "      <td>1</td>\n",
       "      <td>0</td>\n",
       "      <td>0</td>\n",
       "      <td>0</td>\n",
       "      <td>0</td>\n",
       "      <td>0</td>\n",
       "      <td>0</td>\n",
       "      <td>0</td>\n",
       "      <td>0</td>\n",
       "      <td>...</td>\n",
       "      <td>0</td>\n",
       "      <td>0</td>\n",
       "      <td>0</td>\n",
       "      <td>0</td>\n",
       "      <td>0</td>\n",
       "      <td>0</td>\n",
       "      <td>0</td>\n",
       "      <td>0</td>\n",
       "      <td>0</td>\n",
       "      <td>0</td>\n",
       "    </tr>\n",
       "    <tr>\n",
       "      <th>19245</th>\n",
       "      <td>0</td>\n",
       "      <td>0</td>\n",
       "      <td>0</td>\n",
       "      <td>0</td>\n",
       "      <td>0</td>\n",
       "      <td>0</td>\n",
       "      <td>0</td>\n",
       "      <td>0</td>\n",
       "      <td>0</td>\n",
       "      <td>0</td>\n",
       "      <td>...</td>\n",
       "      <td>0</td>\n",
       "      <td>1</td>\n",
       "      <td>0</td>\n",
       "      <td>1</td>\n",
       "      <td>0</td>\n",
       "      <td>0</td>\n",
       "      <td>0</td>\n",
       "      <td>0</td>\n",
       "      <td>0</td>\n",
       "      <td>0</td>\n",
       "    </tr>\n",
       "    <tr>\n",
       "      <th>19246</th>\n",
       "      <td>0</td>\n",
       "      <td>0</td>\n",
       "      <td>0</td>\n",
       "      <td>0</td>\n",
       "      <td>0</td>\n",
       "      <td>0</td>\n",
       "      <td>0</td>\n",
       "      <td>0</td>\n",
       "      <td>0</td>\n",
       "      <td>0</td>\n",
       "      <td>...</td>\n",
       "      <td>0</td>\n",
       "      <td>0</td>\n",
       "      <td>0</td>\n",
       "      <td>0</td>\n",
       "      <td>0</td>\n",
       "      <td>0</td>\n",
       "      <td>0</td>\n",
       "      <td>1</td>\n",
       "      <td>0</td>\n",
       "      <td>0</td>\n",
       "    </tr>\n",
       "  </tbody>\n",
       "</table>\n",
       "<p>19247 rows × 396 columns</p>\n",
       "</div>"
      ],
      "text/plain": [
       "       abl_Body  accord_Body  account_Body  accuraci_Body  across_Body  \\\n",
       "0             0            0             0              0            0   \n",
       "1             0            0             0              0            0   \n",
       "2             0            0             0              0            0   \n",
       "3             0            0             0              0            0   \n",
       "4             0            0             0              0            0   \n",
       "...         ...          ...           ...            ...          ...   \n",
       "19242         2            0             0              2            0   \n",
       "19243         0            0             0              0            0   \n",
       "19244         0            1             0              0            0   \n",
       "19245         0            0             0              0            0   \n",
       "19246         0            0             0              0            0   \n",
       "\n",
       "       actual_Body  ad_Body  add_Body  addit_Body  advanc_Body  ...  \\\n",
       "0                0        0         0           0            0  ...   \n",
       "1                0        0         0           0            0  ...   \n",
       "2                0        0         0           0            0  ...   \n",
       "3                0        0         0           0            0  ...   \n",
       "4                0        0         0           0            0  ...   \n",
       "...            ...      ...       ...         ...          ...  ...   \n",
       "19242            0        0         0           0            0  ...   \n",
       "19243            0        0         0           0            0  ...   \n",
       "19244            0        0         0           0            0  ...   \n",
       "19245            0        0         0           0            0  ...   \n",
       "19246            0        0         0           0            0  ...   \n",
       "\n",
       "       two_Title  use_Title  valu_Title  variabl_Title  machine-learning_Tags  \\\n",
       "0              0          1           0              0                      0   \n",
       "1              0          0           0              0                      0   \n",
       "2              0          0           0              0                      0   \n",
       "3              0          0           0              0                      0   \n",
       "4              0          0           0              0                      0   \n",
       "...          ...        ...         ...            ...                    ...   \n",
       "19242          0          0           1              0                      0   \n",
       "19243          0          1           0              0                      0   \n",
       "19244          0          0           0              0                      0   \n",
       "19245          0          1           0              1                      0   \n",
       "19246          0          0           0              0                      0   \n",
       "\n",
       "       neural-networks_Tags  probability_Tags  r_Tags  regression_Tags  \\\n",
       "0                         0                 0       1                0   \n",
       "1                         0                 1       0                0   \n",
       "2                         0                 0       0                0   \n",
       "3                         0                 0       0                0   \n",
       "4                         0                 0       0                0   \n",
       "...                     ...               ...     ...              ...   \n",
       "19242                     0                 0       0                0   \n",
       "19243                     0                 0       0                0   \n",
       "19244                     0                 0       0                0   \n",
       "19245                     0                 0       0                0   \n",
       "19246                     0                 0       1                0   \n",
       "\n",
       "       time-series_Tags  \n",
       "0                     0  \n",
       "1                     0  \n",
       "2                     0  \n",
       "3                     0  \n",
       "4                     0  \n",
       "...                 ...  \n",
       "19242                 0  \n",
       "19243                 0  \n",
       "19244                 0  \n",
       "19245                 0  \n",
       "19246                 0  \n",
       "\n",
       "[19247 rows x 396 columns]"
      ]
     },
     "execution_count": 9,
     "metadata": {},
     "output_type": "execute_result"
    }
   ],
   "source": [
    "X"
   ]
  },
  {
   "cell_type": "markdown",
   "id": "d54ff833-1f2f-49bd-b540-334e1920cb04",
   "metadata": {},
   "source": [
    "## Model Building/Evaluation ##"
   ]
  },
  {
   "cell_type": "markdown",
   "id": "8895d4ab-ade2-41bd-b541-13c10b870c9f",
   "metadata": {},
   "source": [
    "For this phase, we will train and evaluate a list of models and decide which one would be most appropriate for the task at hand. The function below takes in a model and reports a list metrics using cross validation on the training set. The metrics I chose to report were accuracy, recall, precision, and the area under the receiver operating characteristic curve (AUC)."
   ]
  },
  {
   "cell_type": "code",
   "execution_count": 10,
   "id": "4ea4e447-cddd-4e4d-b9e7-d53d95c394d3",
   "metadata": {},
   "outputs": [],
   "source": [
    "from sklearn.metrics import accuracy_score, recall_score, precision_score, roc_auc_score\n",
    "from sklearn.model_selection import KFold\n",
    "\n",
    "\n",
    "\n",
    "def get_score(model,K=5,drop=[]):\n",
    "    X1=X.drop(columns=drop)\n",
    "    scores={\"Accuracy\":[],\"Recall\":[],\"Precision\":[],\"AUC\":[]}\n",
    "    for tra, val in KFold(n_splits=K).split(X1):\n",
    "        model.fit(X1.iloc[tra,:],y.iloc[tra])\n",
    "        tru=y.iloc[val]\n",
    "        pred=model.predict(X1.iloc[val,:])\n",
    "        scores[\"Accuracy\"].append(accuracy_score(tru,pred))\n",
    "        scores[\"Recall\"].append(recall_score(tru,pred))\n",
    "        scores[\"Precision\"].append(precision_score(tru,pred))\n",
    "        scores[\"AUC\"].append(roc_auc_score(tru,pred))\n",
    "    model.fit(X1,y)\n",
    "    \n",
    "    \n",
    "    print(str(K)+\"-Fold Cross Validation Results:\")\n",
    "    for metric in scores.keys():\n",
    "        print(metric+ \":\",np.mean(scores[metric]))\n",
    "    "
   ]
  },
  {
   "cell_type": "markdown",
   "id": "890beaa3-d73e-47ee-bf91-421f376bc502",
   "metadata": {},
   "source": [
    "### Linear Discriminant Analysis ###"
   ]
  },
  {
   "cell_type": "markdown",
   "id": "e9fc137e-1622-43d2-8543-3978abf2afae",
   "metadata": {},
   "source": [
    "No special considerations or hyperparameters are present for linear discriminant analysis."
   ]
  },
  {
   "cell_type": "code",
   "execution_count": 11,
   "id": "305c8f6b-3f39-44cf-b2e4-76dcb8fb8227",
   "metadata": {
    "tags": []
   },
   "outputs": [
    {
     "name": "stdout",
     "output_type": "stream",
     "text": [
      "10-Fold Cross Validation Results:\n",
      "Accuracy: 0.5630480600480601\n",
      "Recall: 0.5021241221544981\n",
      "Precision: 0.5682341838612952\n",
      "AUC: 0.5627535773066221\n"
     ]
    }
   ],
   "source": [
    "from sklearn.discriminant_analysis import LinearDiscriminantAnalysis\n",
    "\n",
    "lda=LinearDiscriminantAnalysis()\n",
    "get_score(lda,K=10)"
   ]
  },
  {
   "cell_type": "markdown",
   "id": "c4112a0e-b6ef-420c-89b2-7d9dc86ab1b0",
   "metadata": {},
   "source": [
    "### Logistic Regression ###"
   ]
  },
  {
   "cell_type": "markdown",
   "id": "264b0cb7-f8c3-4588-b8c0-3ef3205ab898",
   "metadata": {},
   "source": [
    "For the logistic regression model, we can conduct a hypothesis test to see if we have any irrelevant features in our data. We do this by calculating the p-values for each feature's coefficient (a very low p-value signals that the coefficient is significantly different from zero). We will regard coefficients with a p-values less than or equal 5% as statistically significant. The following code cell repeatedly fits a logistic regression model on our training data. Each time it fits a model, it calculates the p-values of the coefficients and drops the feature in our dataset with highest p-value. It does this until all the features in our data are statistically significant. "
   ]
  },
  {
   "cell_type": "code",
   "execution_count": 12,
   "id": "b1dcc1d8-756b-42b8-9050-50bc00dad5e8",
   "metadata": {
    "tags": []
   },
   "outputs": [],
   "source": [
    "import statsmodels.api as sm\n",
    "\n",
    "def stepwise_logistic_regression():\n",
    "    X1=sm.add_constant(X)\n",
    "    cols=X1.columns\n",
    "    flag=True\n",
    "    dropped=[]\n",
    "    while flag:\n",
    "        model=sm.Logit(y,X1[cols]).fit(disp=False)\n",
    "        if all(model.pvalues<=0.05):\n",
    "            flag=False\n",
    "        else:\n",
    "            label=model.pvalues[model.pvalues==max(model.pvalues)].index[0]\n",
    "            dropped.append(label)\n",
    "            cols=[e for e in cols if e!=label]\n",
    "    return model,dropped\n",
    "\n",
    "logistic,log_dropped=stepwise_logistic_regression()\n",
    "            "
   ]
  },
  {
   "cell_type": "markdown",
   "id": "2e6e703b-8e58-4b62-b237-696f2af7178b",
   "metadata": {},
   "source": [
    "Another metric we can use to evaluate each feature is the variance inflation factor (VIF). It gives us a sense of the multicollinearity amongst the features, which is a potential issue for logistic regression. The VIF of each feature remaining after dropping all of the insignificant ones is reported below."
   ]
  },
  {
   "cell_type": "code",
   "execution_count": 13,
   "id": "669a2636-3b52-4d29-9661-72b894754e9d",
   "metadata": {},
   "outputs": [
    {
     "data": {
      "text/plain": [
       "alway_Body          1.020062\n",
       "analysi_Body        1.068963\n",
       "answer_Body         1.013166\n",
       "anyon_Body          1.012876\n",
       "appreci_Body        1.027126\n",
       "                      ...   \n",
       "interpret_Title     1.020233\n",
       "multipl_Title       1.016212\n",
       "predict_Title       1.015363\n",
       "test_Title          1.089030\n",
       "probability_Tags    1.048305\n",
       "Length: 64, dtype: float64"
      ]
     },
     "execution_count": 13,
     "metadata": {},
     "output_type": "execute_result"
    }
   ],
   "source": [
    "from statsmodels.stats.outliers_influence import variance_inflation_factor\n",
    "\n",
    "def VIF(df, columns):\n",
    "    values = sm.add_constant(df[columns]).values\n",
    "    num_columns = len(columns)+1\n",
    "    vif = [variance_inflation_factor(values, i) for i in range(num_columns)]\n",
    "    return pd.Series(vif[1:], index=columns)\n",
    "\n",
    "VIF(X.drop(columns=log_dropped),X.drop(columns=log_dropped).columns)"
   ]
  },
  {
   "cell_type": "markdown",
   "id": "b555dbb6-4f5e-4f10-8971-847f12c8bf74",
   "metadata": {},
   "source": [
    "No further features need to be dropped since all of the VIF's are about 1."
   ]
  },
  {
   "cell_type": "code",
   "execution_count": 14,
   "id": "2a33fd0b-4dd3-407c-990a-53e6b2be33c3",
   "metadata": {},
   "outputs": [
    {
     "name": "stdout",
     "output_type": "stream",
     "text": [
      "10-Fold Cross Validation Results:\n",
      "Accuracy: 0.5825318195318195\n",
      "Recall: 0.4990861841498758\n",
      "Precision: 0.5953433734082617\n",
      "AUC: 0.5821231724856676\n"
     ]
    }
   ],
   "source": [
    "from sklearn.linear_model import LogisticRegression\n",
    "\n",
    "log=LogisticRegression()\n",
    "get_score(log,drop=log_dropped,K=10)\n"
   ]
  },
  {
   "cell_type": "markdown",
   "id": "5bbaace6-3bfa-4415-91cd-e98e7a821769",
   "metadata": {},
   "source": [
    "For the next three models we will consider, we need to decide on certain hyperparameters. We will verify the choice of hyperparameters using cross validation. The choice of hyperparameters will be optimized with the goal of maximizing **AUC**.    \n",
    "\n",
    "One way we can interpret AUC is given a random useful question and a random non-useful question in our dataset, the AUC is the probability that the model will return a higher probability value for the useful question than the non-useful question. Since our ultimate task of this project is to list useful questions at the top of Stack Exchange's websites, this is indeed the best metric to optimize for. We can make our models return probabilities for each question being useful and list the questions from highest probabilities to lowest. The higher a model's AUC, the more confident we are that the top of the page has more useful questions than the bottom.\n",
    "\n",
    "Furthermore, the next three models are all based off of the decision tree model (random forests and gradient boosting are ensemble methods that aggregate decision trees). Because of this, for each feature in our data we will have access to it's gini importance, which measures the average gain of purity by splits of a given feature. A feature with a high gini importance means that when a split in a decision tree is made using that feature, it tends to result in nodes with higher purity (i.e. nodes that mostly consist of one type of class that we are predicting). Utilizing this knowledge, we will choose to train each of the following models with the 70 most gini important features in the data. The function below does this and reports the cross validated scores of the model. "
   ]
  },
  {
   "cell_type": "code",
   "execution_count": 15,
   "id": "ef4902f7-f7db-44d4-afac-e193563a8f95",
   "metadata": {},
   "outputs": [],
   "source": [
    "def treemodel_score(model,threshold,K=5):\n",
    "    model.fit(X,y)\n",
    "    imp=pd.Series(model.feature_importances_,index=X.columns).sort_values(ascending=False)\n",
    "    d=imp.tail(396-threshold).index\n",
    "\n",
    "    get_score(model,drop=d,K=K)\n",
    "    return list(d)"
   ]
  },
  {
   "cell_type": "markdown",
   "id": "a720cbd3-8c28-491c-bce8-3419dbc3deff",
   "metadata": {},
   "source": [
    "### Decision Tree (CART) ###"
   ]
  },
  {
   "cell_type": "markdown",
   "id": "50fdd189-dd29-4b4b-8b85-d135ee361be5",
   "metadata": {},
   "source": [
    "Below are the scores for a CART model using sklearn's default hyperparameters followed by the scores for a CART model with the same hyperparameters but now only considering the 70 features with highest gini importance."
   ]
  },
  {
   "cell_type": "code",
   "execution_count": 16,
   "id": "473dbe70-e4e1-420c-8df9-db814fcc8ea4",
   "metadata": {
    "tags": []
   },
   "outputs": [
    {
     "name": "stdout",
     "output_type": "stream",
     "text": [
      "10-Fold Cross Validation Results:\n",
      "Accuracy: 0.5146772956772956\n",
      "Recall: 0.5145127001556569\n",
      "Precision: 0.5116354043360184\n",
      "AUC: 0.5147826312909409\n"
     ]
    }
   ],
   "source": [
    "from sklearn.tree import DecisionTreeClassifier\n",
    "\n",
    "default_cart=DecisionTreeClassifier(random_state=45)\n",
    "get_score(default_cart,K=10)"
   ]
  },
  {
   "cell_type": "code",
   "execution_count": 17,
   "id": "70803905-82ae-4052-9af6-142bf65db7c4",
   "metadata": {},
   "outputs": [
    {
     "name": "stdout",
     "output_type": "stream",
     "text": [
      "10-Fold Cross Validation Results:\n",
      "Accuracy: 0.5116131706131706\n",
      "Recall: 0.5232048142484285\n",
      "Precision: 0.5082190091831076\n",
      "AUC: 0.5116722259436087\n"
     ]
    }
   ],
   "source": [
    "cart_dropped=treemodel_score(default_cart,70,K=10)"
   ]
  },
  {
   "cell_type": "markdown",
   "id": "76b5e848-544c-4d9e-952a-ddee35a9e29b",
   "metadata": {},
   "source": [
    "Though there's a very slight drop off in our performace metrics, the second model performs relatively the same as the first and is only considering 70 of the 396 features the first one considers. Dropping off those irrelevant features will reduce the chances of overfitting. \n",
    "\n",
    "Now that we have identified the specific features we want to train on, we will tune the relevant hyperparameters with the intent of maximizing AUC then report the cross validated scores once more."
   ]
  },
  {
   "cell_type": "code",
   "execution_count": 18,
   "id": "37980779-51cf-4e45-b481-e65d5b3b8b01",
   "metadata": {
    "tags": []
   },
   "outputs": [],
   "source": [
    "from sklearn.model_selection import GridSearchCV\n",
    "\n",
    "grid_values = {'ccp_alpha': np.linspace(0, 0.05, 101)}\n",
    "\n",
    "cart=DecisionTreeClassifier(random_state=45)\n",
    "cart=GridSearchCV(cart,param_grid=grid_values,scoring='roc_auc').fit(X.drop(columns=cart_dropped),y)"
   ]
  },
  {
   "cell_type": "code",
   "execution_count": 19,
   "id": "c071ff2d-d18e-41d9-9462-c1b2b2af327a",
   "metadata": {},
   "outputs": [
    {
     "name": "stdout",
     "output_type": "stream",
     "text": [
      "Best parameters: {'ccp_alpha': 0.0005}\n",
      "\n",
      "10-Fold Cross Validation Results:\n",
      "Accuracy: 0.5324460674460674\n",
      "Recall: 0.43086418048157515\n",
      "Precision: 0.5396716472608789\n",
      "AUC: 0.5321145631142928\n"
     ]
    }
   ],
   "source": [
    "print(\"Best parameters:\",cart.best_params_)\n",
    "print()\n",
    "get_score(cart.best_estimator_,drop=cart_dropped,K=10)"
   ]
  },
  {
   "cell_type": "markdown",
   "id": "049e67d1-1f98-4245-a59a-7700bd24415b",
   "metadata": {},
   "source": [
    "The same approach is utilized for the next two models. "
   ]
  },
  {
   "cell_type": "markdown",
   "id": "21ab1233-28a9-4ab1-ac69-8ff6536bae5c",
   "metadata": {},
   "source": [
    "### Random Forest ###"
   ]
  },
  {
   "cell_type": "code",
   "execution_count": 20,
   "id": "4fb55b12-1e9d-4e55-bfe0-7374d8ef6d8b",
   "metadata": {
    "tags": []
   },
   "outputs": [
    {
     "name": "stdout",
     "output_type": "stream",
     "text": [
      "10-Fold Cross Validation Results:\n",
      "Accuracy: 0.5146772956772956\n",
      "Recall: 0.5145127001556569\n",
      "Precision: 0.5116354043360184\n",
      "AUC: 0.5147826312909409\n"
     ]
    }
   ],
   "source": [
    "from sklearn.ensemble import RandomForestClassifier\n",
    "\n",
    "default_rf=RandomForestClassifier(random_state=45)\n",
    "get_score(default_cart,K=10)\n",
    "\n"
   ]
  },
  {
   "cell_type": "code",
   "execution_count": 21,
   "id": "b4414355-4d8d-47aa-b365-6893886049f0",
   "metadata": {},
   "outputs": [
    {
     "name": "stdout",
     "output_type": "stream",
     "text": [
      "10-Fold Cross Validation Results:\n",
      "Accuracy: 0.5479286389286389\n",
      "Recall: 0.5184224111079081\n",
      "Precision: 0.5475353741626467\n",
      "AUC: 0.5477570475534831\n"
     ]
    }
   ],
   "source": [
    "rf_dropped=treemodel_score(default_rf,70,K=10)"
   ]
  },
  {
   "cell_type": "code",
   "execution_count": 22,
   "id": "63708caa-60d7-43d0-8ed0-287a21a4a87f",
   "metadata": {
    "tags": []
   },
   "outputs": [],
   "source": [
    "grid_values = {'max_depth': range(10,170,30),\n",
    "               'n_estimators': range(100,701,100)\n",
    "              }\n",
    "\n",
    "rf=RandomForestClassifier(random_state=45)\n",
    "rf=GridSearchCV(rf,param_grid=grid_values,scoring='roc_auc').fit(X.drop(columns=rf_dropped),y)"
   ]
  },
  {
   "cell_type": "code",
   "execution_count": 23,
   "id": "2d4e238a-ed94-4407-97cf-860cdab8c58c",
   "metadata": {},
   "outputs": [
    {
     "name": "stdout",
     "output_type": "stream",
     "text": [
      "Best parameters: {'max_depth': 10, 'n_estimators': 700}\n",
      "\n",
      "10-Fold Cross Validation Results:\n",
      "Accuracy: 0.5636193536193536\n",
      "Recall: 0.45520212300968277\n",
      "Precision: 0.5775296565853163\n",
      "AUC: 0.5631984894238374\n"
     ]
    }
   ],
   "source": [
    "print(\"Best parameters:\",rf.best_params_)\n",
    "print()\n",
    "get_score(rf.best_estimator_,drop=rf_dropped,K=10)"
   ]
  },
  {
   "cell_type": "markdown",
   "id": "44a6ac3f-11d9-450f-ba98-708105f3f65e",
   "metadata": {},
   "source": [
    "### Gradient Boosting ###"
   ]
  },
  {
   "cell_type": "code",
   "execution_count": 24,
   "id": "47003c63-032f-4948-afe6-1b35860ca288",
   "metadata": {
    "tags": []
   },
   "outputs": [
    {
     "name": "stdout",
     "output_type": "stream",
     "text": [
      "10-Fold Cross Validation Results:\n",
      "Accuracy: 0.565906390906391\n",
      "Recall: 0.46973424644885975\n",
      "Precision: 0.57787436934879\n",
      "AUC: 0.565465209982628\n"
     ]
    }
   ],
   "source": [
    "from sklearn.ensemble import GradientBoostingClassifier\n",
    "\n",
    "\n",
    "default_boost=GradientBoostingClassifier(random_state=45)\n",
    "get_score(default_boost,K=10)\n"
   ]
  },
  {
   "cell_type": "code",
   "execution_count": 25,
   "id": "6f93ec21-3113-4912-ba7b-0173df067633",
   "metadata": {},
   "outputs": [
    {
     "name": "stdout",
     "output_type": "stream",
     "text": [
      "10-Fold Cross Validation Results:\n",
      "Accuracy: 0.5748419148419149\n",
      "Recall: 0.4832605600918479\n",
      "Precision: 0.5879923827284025\n",
      "AUC: 0.5744470066996581\n"
     ]
    }
   ],
   "source": [
    "boost_dropped=treemodel_score(default_boost,70,K=10)"
   ]
  },
  {
   "cell_type": "code",
   "execution_count": 26,
   "id": "728f64b1-a268-45de-8999-71096f6f8b1f",
   "metadata": {
    "tags": []
   },
   "outputs": [],
   "source": [
    "grid_values={'learning_rate':np.linspace(.001,.2,20),\n",
    "              'n_estimators':range(100,501,100),\n",
    "              'max_depth':[1,2,3]\n",
    "             }\n",
    "\n",
    "boost=GradientBoostingClassifier(random_state=45)\n",
    "boost=GridSearchCV(boost,param_grid=grid_values,scoring='roc_auc').fit(X.drop(columns=boost_dropped),y)\n"
   ]
  },
  {
   "cell_type": "code",
   "execution_count": 27,
   "id": "f065ebc2-2cdc-4adc-9c8b-29b59e63f3ea",
   "metadata": {},
   "outputs": [
    {
     "name": "stdout",
     "output_type": "stream",
     "text": [
      "Best parameters: {'learning_rate': 0.15810526315789475, 'max_depth': 2, 'n_estimators': 300}\n",
      "\n",
      "10-Fold Cross Validation Results:\n",
      "Accuracy: 0.5781157761157761\n",
      "Recall: 0.5036727063781503\n",
      "Precision: 0.5881982439856421\n",
      "AUC: 0.5777663322967228\n"
     ]
    }
   ],
   "source": [
    "print(\"Best parameters:\",boost.best_params_)\n",
    "print()\n",
    "get_score(boost.best_estimator_,drop=boost_dropped,K=10)"
   ]
  },
  {
   "cell_type": "markdown",
   "id": "b9c185ed-f6ec-4fab-b063-53e9f2595af9",
   "metadata": {},
   "source": [
    "## Test Set Metrics ##"
   ]
  },
  {
   "cell_type": "markdown",
   "id": "67ca2973-c181-4e5f-a33e-3e504228e8ae",
   "metadata": {},
   "source": [
    "We now have the option to simply calculate our performance metrics on the test set data. However, since the testing data is only a sample of the true population, there will be some uncertainty associated with any performance metric computed on the test data. Instead we will take bootstrap samples of our test set and calcuate the metric values for each sample to produce a distribution for each metric. This method will give us sense of the variability of our performance metrics.   "
   ]
  },
  {
   "cell_type": "code",
   "execution_count": 28,
   "id": "5b0d1087-278d-48c3-9f3a-ed803f163b3d",
   "metadata": {},
   "outputs": [],
   "source": [
    "import time\n",
    "\n",
    "def bootstrap_validation(test_data, test_label, models,drops,sample=500):\n",
    "    \n",
    "    n_sample = sample\n",
    "    output_array=np.zeros([4*n_sample, len(models)])\n",
    "    output_array[:]=np.nan\n",
    "    \n",
    "    tic = time.time()\n",
    "    for bs_iter in range(n_sample):\n",
    "        #if bs_iter % 100 == 0:\n",
    "        #     print(bs_iter, round(time.time()-tic))\n",
    "        bs_index = np.random.choice(test_data.index, len(test_data.index), replace=True)\n",
    "        bs_data = test_data.loc[bs_index]\n",
    "        bs_label = test_label.loc[bs_index]\n",
    "        for model_iter in range(len(models)):\n",
    "            model = list(models.values())[model_iter]\n",
    "            bs_predicted = model.predict(bs_data.drop(columns=drops[model_iter]))\n",
    "            output_array[bs_iter*4, model_iter]=accuracy_score(bs_label,bs_predicted)\n",
    "            output_array[bs_iter*4+1, model_iter]=recall_score(bs_label,bs_predicted)\n",
    "            output_array[bs_iter*4+2, model_iter]=precision_score(bs_label,bs_predicted)\n",
    "            output_array[bs_iter*4+3, model_iter]=roc_auc_score(bs_label,bs_predicted)\n",
    "\n",
    "        \n",
    "                \n",
    "    index = pd.MultiIndex.from_product([range(500),['Accuracy','Recall',\"Precision\",\"AUC\"]],names=[\"Bootstrap Sample\", \"Metric\"])\n",
    "    output_df = pd.DataFrame(output_array,index=index,columns=models.keys())\n",
    "    return output_df\n",
    "\n",
    "def CI_95(data):\n",
    "    return np.percentile(data,2.5), np.percentile(data,97.5)"
   ]
  },
  {
   "cell_type": "code",
   "execution_count": 29,
   "id": "6da93011-b25f-41c8-a060-58a8be85ad70",
   "metadata": {
    "tags": []
   },
   "outputs": [],
   "source": [
    "models={\"Linear Discriminant Analysis\":lda,\"Logistic Regression\":log, \"CART\":cart,\"Random Forest\":rf,\"Boosting\":boost}\n",
    "drops=[[],log_dropped,cart_dropped,rf_dropped,boost_dropped]\n",
    "\n",
    "bs=bootstrap_validation(processed_test,test_y,models,drops)"
   ]
  },
  {
   "cell_type": "code",
   "execution_count": 30,
   "id": "c5d46825-1b12-4979-a6d7-65ede0089b2b",
   "metadata": {},
   "outputs": [
    {
     "data": {
      "text/html": [
       "<div>\n",
       "<style scoped>\n",
       "    .dataframe tbody tr th:only-of-type {\n",
       "        vertical-align: middle;\n",
       "    }\n",
       "\n",
       "    .dataframe tbody tr th {\n",
       "        vertical-align: top;\n",
       "    }\n",
       "\n",
       "    .dataframe thead th {\n",
       "        text-align: right;\n",
       "    }\n",
       "</style>\n",
       "<table border=\"1\" class=\"dataframe\">\n",
       "  <thead>\n",
       "    <tr style=\"text-align: right;\">\n",
       "      <th></th>\n",
       "      <th></th>\n",
       "      <th>Linear Discriminant Analysis</th>\n",
       "      <th>Logistic Regression</th>\n",
       "      <th>CART</th>\n",
       "      <th>Random Forest</th>\n",
       "      <th>Boosting</th>\n",
       "    </tr>\n",
       "    <tr>\n",
       "      <th>Bootstrap Sample</th>\n",
       "      <th>Metric</th>\n",
       "      <th></th>\n",
       "      <th></th>\n",
       "      <th></th>\n",
       "      <th></th>\n",
       "      <th></th>\n",
       "    </tr>\n",
       "  </thead>\n",
       "  <tbody>\n",
       "    <tr>\n",
       "      <th rowspan=\"4\" valign=\"top\">0</th>\n",
       "      <th>Accuracy</th>\n",
       "      <td>0.572312</td>\n",
       "      <td>0.574615</td>\n",
       "      <td>0.550733</td>\n",
       "      <td>0.567584</td>\n",
       "      <td>0.569402</td>\n",
       "    </tr>\n",
       "    <tr>\n",
       "      <th>Recall</th>\n",
       "      <td>0.506326</td>\n",
       "      <td>0.484672</td>\n",
       "      <td>0.473236</td>\n",
       "      <td>0.442579</td>\n",
       "      <td>0.491971</td>\n",
       "    </tr>\n",
       "    <tr>\n",
       "      <th>Precision</th>\n",
       "      <td>0.581285</td>\n",
       "      <td>0.588826</td>\n",
       "      <td>0.557946</td>\n",
       "      <td>0.587722</td>\n",
       "      <td>0.580034</td>\n",
       "    </tr>\n",
       "    <tr>\n",
       "      <th>AUC</th>\n",
       "      <td>0.572081</td>\n",
       "      <td>0.574300</td>\n",
       "      <td>0.550462</td>\n",
       "      <td>0.567146</td>\n",
       "      <td>0.569131</td>\n",
       "    </tr>\n",
       "    <tr>\n",
       "      <th>1</th>\n",
       "      <th>Accuracy</th>\n",
       "      <td>0.572191</td>\n",
       "      <td>0.573524</td>\n",
       "      <td>0.545642</td>\n",
       "      <td>0.559219</td>\n",
       "      <td>0.564675</td>\n",
       "    </tr>\n",
       "    <tr>\n",
       "      <th>...</th>\n",
       "      <th>...</th>\n",
       "      <td>...</td>\n",
       "      <td>...</td>\n",
       "      <td>...</td>\n",
       "      <td>...</td>\n",
       "      <td>...</td>\n",
       "    </tr>\n",
       "    <tr>\n",
       "      <th>498</th>\n",
       "      <th>AUC</th>\n",
       "      <td>0.569306</td>\n",
       "      <td>0.572419</td>\n",
       "      <td>0.541166</td>\n",
       "      <td>0.572846</td>\n",
       "      <td>0.575920</td>\n",
       "    </tr>\n",
       "    <tr>\n",
       "      <th rowspan=\"4\" valign=\"top\">499</th>\n",
       "      <th>Accuracy</th>\n",
       "      <td>0.569524</td>\n",
       "      <td>0.570615</td>\n",
       "      <td>0.545036</td>\n",
       "      <td>0.563220</td>\n",
       "      <td>0.566978</td>\n",
       "    </tr>\n",
       "    <tr>\n",
       "      <th>Recall</th>\n",
       "      <td>0.509872</td>\n",
       "      <td>0.495558</td>\n",
       "      <td>0.461007</td>\n",
       "      <td>0.449654</td>\n",
       "      <td>0.489635</td>\n",
       "    </tr>\n",
       "    <tr>\n",
       "      <th>Precision</th>\n",
       "      <td>0.568989</td>\n",
       "      <td>0.572732</td>\n",
       "      <td>0.543497</td>\n",
       "      <td>0.570266</td>\n",
       "      <td>0.568807</td>\n",
       "    </tr>\n",
       "    <tr>\n",
       "      <th>AUC</th>\n",
       "      <td>0.568493</td>\n",
       "      <td>0.569318</td>\n",
       "      <td>0.543584</td>\n",
       "      <td>0.561258</td>\n",
       "      <td>0.565642</td>\n",
       "    </tr>\n",
       "  </tbody>\n",
       "</table>\n",
       "<p>2000 rows × 5 columns</p>\n",
       "</div>"
      ],
      "text/plain": [
       "                            Linear Discriminant Analysis  Logistic Regression  \\\n",
       "Bootstrap Sample Metric                                                         \n",
       "0                Accuracy                       0.572312             0.574615   \n",
       "                 Recall                         0.506326             0.484672   \n",
       "                 Precision                      0.581285             0.588826   \n",
       "                 AUC                            0.572081             0.574300   \n",
       "1                Accuracy                       0.572191             0.573524   \n",
       "...                                                  ...                  ...   \n",
       "498              AUC                            0.569306             0.572419   \n",
       "499              Accuracy                       0.569524             0.570615   \n",
       "                 Recall                         0.509872             0.495558   \n",
       "                 Precision                      0.568989             0.572732   \n",
       "                 AUC                            0.568493             0.569318   \n",
       "\n",
       "                                CART  Random Forest  Boosting  \n",
       "Bootstrap Sample Metric                                        \n",
       "0                Accuracy   0.550733       0.567584  0.569402  \n",
       "                 Recall     0.473236       0.442579  0.491971  \n",
       "                 Precision  0.557946       0.587722  0.580034  \n",
       "                 AUC        0.550462       0.567146  0.569131  \n",
       "1                Accuracy   0.545642       0.559219  0.564675  \n",
       "...                              ...            ...       ...  \n",
       "498              AUC        0.541166       0.572846  0.575920  \n",
       "499              Accuracy   0.545036       0.563220  0.566978  \n",
       "                 Recall     0.461007       0.449654  0.489635  \n",
       "                 Precision  0.543497       0.570266  0.568807  \n",
       "                 AUC        0.543584       0.561258  0.565642  \n",
       "\n",
       "[2000 rows x 5 columns]"
      ]
     },
     "execution_count": 30,
     "metadata": {},
     "output_type": "execute_result"
    }
   ],
   "source": [
    "bs"
   ]
  },
  {
   "cell_type": "code",
   "execution_count": 31,
   "id": "f7483071-ca85-4dc6-a2f8-fa0999833924",
   "metadata": {},
   "outputs": [
    {
     "name": "stdout",
     "output_type": "stream",
     "text": [
      "Accuracy Bootstrap Estimate:\n"
     ]
    },
    {
     "data": {
      "text/plain": [
       "Linear Discriminant Analysis    0.570653\n",
       "Logistic Regression             0.574824\n",
       "CART                            0.545006\n",
       "Random Forest                   0.566277\n",
       "Boosting                        0.568987\n",
       "dtype: float64"
      ]
     },
     "execution_count": 31,
     "metadata": {},
     "output_type": "execute_result"
    }
   ],
   "source": [
    "print(\"Accuracy Bootstrap Estimate:\")\n",
    "acc=bs.swaplevel().loc['Accuracy']\n",
    "acc.mean()"
   ]
  },
  {
   "cell_type": "code",
   "execution_count": 32,
   "id": "163fb926-8f72-4f5e-9912-0e54b1fb0b10",
   "metadata": {},
   "outputs": [
    {
     "name": "stdout",
     "output_type": "stream",
     "text": [
      "Recall Bootstrap Estimate:\n"
     ]
    },
    {
     "data": {
      "text/plain": [
       "Linear Discriminant Analysis    0.504492\n",
       "Logistic Regression             0.488338\n",
       "CART                            0.464108\n",
       "Random Forest                   0.445752\n",
       "Boosting                        0.488554\n",
       "dtype: float64"
      ]
     },
     "execution_count": 32,
     "metadata": {},
     "output_type": "execute_result"
    }
   ],
   "source": [
    "print(\"Recall Bootstrap Estimate:\")\n",
    "TPR=bs.swaplevel().loc['Recall']\n",
    "TPR.mean()"
   ]
  },
  {
   "cell_type": "code",
   "execution_count": 33,
   "id": "e177e8b0-6552-47fd-a82e-6699aa944865",
   "metadata": {},
   "outputs": [
    {
     "name": "stdout",
     "output_type": "stream",
     "text": [
      "Precision Bootstrap Estimate:\n"
     ]
    },
    {
     "data": {
      "text/plain": [
       "Linear Discriminant Analysis    0.567195\n",
       "Logistic Regression             0.575477\n",
       "CART                            0.538864\n",
       "Random Forest                   0.570781\n",
       "Boosting                        0.567428\n",
       "dtype: float64"
      ]
     },
     "execution_count": 33,
     "metadata": {},
     "output_type": "execute_result"
    }
   ],
   "source": [
    "print(\"Precision Bootstrap Estimate:\")\n",
    "prec=bs.swaplevel().loc['Precision']\n",
    "prec.mean()"
   ]
  },
  {
   "cell_type": "code",
   "execution_count": 34,
   "id": "3bb5fbd4-f79b-466d-9159-e73d43348028",
   "metadata": {},
   "outputs": [
    {
     "name": "stdout",
     "output_type": "stream",
     "text": [
      "AUC Bootstrap Estimate:\n"
     ]
    },
    {
     "data": {
      "text/plain": [
       "Linear Discriminant Analysis    0.569057\n",
       "Logistic Regression             0.572737\n",
       "CART                            0.543056\n",
       "Random Forest                   0.563369\n",
       "Boosting                        0.567045\n",
       "dtype: float64"
      ]
     },
     "execution_count": 34,
     "metadata": {},
     "output_type": "execute_result"
    }
   ],
   "source": [
    "print(\"AUC Bootstrap Estimate:\")\n",
    "AUC=bs.swaplevel().loc['AUC']\n",
    "AUC.mean()"
   ]
  },
  {
   "cell_type": "markdown",
   "id": "01739542-961e-4055-b8de-7fdc84b5df76",
   "metadata": {},
   "source": [
    "The bootstrap data also allows us to construct confidence intervals. The code cell below displays the 95% confidence intervals of the difference between AUC of the model with the highest bootstrapped AUC (logistic regression) and all the other models. "
   ]
  },
  {
   "cell_type": "code",
   "execution_count": 35,
   "id": "f961d418-899b-43c8-9020-565ef28ab985",
   "metadata": {},
   "outputs": [
    {
     "name": "stdout",
     "output_type": "stream",
     "text": [
      "Linear Discriminant Analysis: (-0.005056645270223895, 0.013424884741978546)\n",
      "CART: (0.017634468604393536, 0.041715566224246714)\n",
      "Random Forest: (-0.0018424170054883002, 0.019959956582789703)\n",
      "Boosting: (-0.0025878105847576436, 0.015033787110281967)\n"
     ]
    }
   ],
   "source": [
    "print('Linear Discriminant Analysis:',CI_95(AUC['Logistic Regression']-AUC['Linear Discriminant Analysis']))\n",
    "print('CART:',CI_95(AUC['Logistic Regression']-AUC['CART']))\n",
    "print('Random Forest:',CI_95(AUC['Logistic Regression']-AUC['Random Forest']))\n",
    "print('Boosting:',CI_95(AUC['Logistic Regression']-AUC['Boosting']))"
   ]
  },
  {
   "cell_type": "markdown",
   "id": "cac7a691-806b-412a-b358-d67d26572e29",
   "metadata": {},
   "source": [
    "One of the intervals do not contain 0. This signals that the gradient boosting model's AUC is significantly better than the CART model. This means that our choice of model will probably be one of the other models.   "
   ]
  },
  {
   "cell_type": "code",
   "execution_count": 36,
   "id": "e6fa17c9-38c6-4fdc-b105-a03baa5ea694",
   "metadata": {},
   "outputs": [
    {
     "data": {
      "image/png": "[encoded data removed]",
      "text/plain": [
       "<Figure size 576x432 with 1 Axes>"
      ]
     },
     "metadata": {
      "needs_background": "light"
     },
     "output_type": "display_data"
    }
   ],
   "source": [
    "from sklearn.metrics import roc_curve, auc\n",
    "import matplotlib.pyplot as plt\n",
    "\n",
    "plt.figure(figsize=(8, 6))\n",
    "plt.title('ROC Curves', fontsize=18)\n",
    "plt.xlabel('FPR', fontsize=16)\n",
    "plt.ylabel('TPR', fontsize=16)\n",
    "plt.xlim([-0.01, 1.00])\n",
    "plt.ylim([-0.01, 1.01])\n",
    "\n",
    "for model_iter in range(len(models)):\n",
    "    model = list(models.values())[model_iter]\n",
    "    t=processed_test.drop(columns=drops[model_iter])\n",
    "    fpr, tpr, _ = roc_curve(test_y,model.predict(t))\n",
    "    roc_auc = auc(fpr, tpr)\n",
    "    plt.plot(fpr, tpr, lw=1.5,label=list(models.keys())[model_iter]+' (area = {:0.2f})'.format(roc_auc))\n",
    "\n",
    "\n",
    "\n",
    "plt.plot([0, 1], [0, 1], color='navy', lw=3, linestyle='--', label='Naive Baseline (area = 0.50)')\n",
    "plt.legend(loc='lower right', fontsize=10)\n",
    "plt.show()"
   ]
  },
  {
   "cell_type": "markdown",
   "id": "31fb44af-9e81-4e68-9e2e-fe78c92193a2",
   "metadata": {},
   "source": [
    "The ROC curves of each model on the test set data further support our initial inference from the confidence intervals. We see that the CART ROC curve is below the four other models' curves, while the four other models have nearly identical curves and AUC."
   ]
  },
  {
   "cell_type": "markdown",
   "id": "fab58861-6d70-46b1-aac7-ecd51c2e6817",
   "metadata": {},
   "source": [
    "## Results ##"
   ]
  },
  {
   "cell_type": "markdown",
   "id": "1474ba50-c4e7-4aaa-9b04-04312c06a04a",
   "metadata": {},
   "source": [
    "In order to get a sense of how well our model will perform the given task of promoting useful questions at the top of the page, we will run a simulation that estimates the increase in probability that the top question is useful. StackExchange's CrossValidated site lists 15 recently posted questions on the first page of the website. The naive approach would be to list the most recent posts at the top and the older posts towards the bottom. For the purposes of the simulation, we can treat the naive approach as a random sample of 15 from our test set. To calculate the increase of probability, we will run a simulation 10,000 times. On each run, will take a random sample of 15 from our test set, check to see if the first question in the sample is useful, then rank the questions based off the probabilities our models return and check to see if the question with the highest probability (the question our model would recommend to have on the top of the page) is useful. Calculating the proportion of times that each event occurs will serve as our estimated probabilities."
   ]
  },
  {
   "cell_type": "code",
   "execution_count": 37,
   "id": "d9a83684-cbdd-42b6-aa08-466849905d1f",
   "metadata": {
    "tags": []
   },
   "outputs": [],
   "source": [
    "random_count=0\n",
    "model_counts=dict(zip(models.keys(),np.zeros(5)))\n",
    "N=10000\n",
    "\n",
    "tic = time.time()\n",
    "for _ in range(N):\n",
    "#    if _%1000==0:\n",
    "#        print(_,round(time.time()-tic))\n",
    "    index=np.random.choice(test.index, 15, replace=True)\n",
    "    questions=processed_test.loc[index]\n",
    "    labels=test_y.loc[index]\n",
    "    if labels.iloc[0]==1:\n",
    "        random_count+=1\n",
    "    for model_iter in range(len(models)):\n",
    "        model=list(models.values())[model_iter]\n",
    "        probs=model.predict_proba(questions.drop(columns=drops[model_iter]))[:,1]\n",
    "        best_index=max(zip(index,probs),key=lambda x:x[1])[0]\n",
    "        if labels.loc[[best_index]].iloc[0]==1:\n",
    "            model_counts[list(models.keys())[model_iter]]+=1\n",
    "random_prob=random_count/N\n",
    "\n",
    "\n"
   ]
  },
  {
   "cell_type": "code",
   "execution_count": 38,
   "id": "c87433c4-1aae-463c-ad83-92c99ac4347f",
   "metadata": {},
   "outputs": [
    {
     "name": "stdout",
     "output_type": "stream",
     "text": [
      "The increase in probability by using the Linear Discriminant Analysis model: 16.07%\n",
      "The increase in probability by using the Logistic Regression model: 16.83%\n",
      "The increase in probability by using the CART model: 9.2%\n",
      "The increase in probability by using the Random Forest model: 15.23%\n",
      "The increase in probability by using the Boosting model: 15.32%\n"
     ]
    }
   ],
   "source": [
    "model_probs={}\n",
    "for m in model_counts:\n",
    "    model_probs[m]=model_counts[m]/N\n",
    "    print(\"The increase in probability by using the \"+m+\" model: \"+str(round(\n",
    "        100*(model_probs[m]-random_prob),2))+\"%\")"
   ]
  },
  {
   "cell_type": "markdown",
   "id": "73638dbd-858d-4797-bb06-144f90c7bdf7",
   "metadata": {},
   "source": [
    "The best increase of probability was about 17% and came from the Logistic Regression model."
   ]
  },
  {
   "cell_type": "markdown",
   "id": "1b4c3ba6-57b8-4131-93fa-6b2ca57c0f08",
   "metadata": {},
   "source": [
    "## Conclusion ##"
   ]
  },
  {
   "cell_type": "markdown",
   "id": "8db74fac-deab-42a2-b3ac-aca9d02dad5f",
   "metadata": {},
   "source": [
    "Though the logistic regression model performed the best in the simulation, it is possibile that another one of the models could perform better when deployed on future data. However, we can confidently say that the CART model would most likely not be one of those models due to the confidence interval we computed during bootstrapping. \n",
    "\n",
    "A potential way we could improve the results is tweaking the min_df parameter in CountVectorizer, which would increase/decrease the amount of words the document term matrix considers. Also, it appears that there's a limit to what we can achieve with bag of words model; perhaps we can consider a more complex representation of the text such as a word embedding and see if that improves our results."
   ]
  }
 ],
 "metadata": {
  "kernelspec": {
   "display_name": "Python 3",
   "language": "python",
   "name": "python3"
  },
  "language_info": {
   "codemirror_mode": {
    "name": "ipython",
    "version": 3
   },
   "file_extension": ".py",
   "mimetype": "text/x-python",
   "name": "python",
   "nbconvert_exporter": "python",
   "pygments_lexer": "ipython3",
   "version": "3.8.10"
  }
 },
 "nbformat": 4,
 "nbformat_minor": 5
}
